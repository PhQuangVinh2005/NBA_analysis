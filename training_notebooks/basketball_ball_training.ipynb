{
  "cells": [
    {
      "cell_type": "markdown",
      "metadata": {
        "id": "hD5P4Ezojs8M"
      },
      "source": [
        "# Install Libraries"
      ]
    },
    {
      "cell_type": "code",
      "execution_count": null,
      "metadata": {
        "colab": {
          "base_uri": "https://localhost:8080/"
        },
        "id": "PDMCerEVRO1J",
        "outputId": "c66ac944-ba7f-40ef-ab36-5d25b121052c"
      },
      "outputs": [],
      "source": [
        "!pip install ultralytics\n",
        "!pip install roboflow"
      ]
    },
    {
      "cell_type": "code",
      "execution_count": null,
      "metadata": {
        "id": "O7EzPqaOjnjF"
      },
      "outputs": [],
      "source": []
    },
    {
      "cell_type": "markdown",
      "metadata": {
        "id": "HHPe6Bh8joIf"
      },
      "source": [
        "# Imports"
      ]
    },
    {
      "cell_type": "code",
      "execution_count": null,
      "metadata": {
        "id": "HWnKQEpfjcKZ"
      },
      "outputs": [],
      "source": [
        "import shutil\n",
        "from roboflow import Roboflow"
      ]
    },
    {
      "cell_type": "code",
      "execution_count": null,
      "metadata": {
        "id": "FRNZ8HwcjphH"
      },
      "outputs": [],
      "source": []
    },
    {
      "cell_type": "markdown",
      "metadata": {
        "id": "BUtqTZzydkLG"
      },
      "source": [
        "# YOLO v5"
      ]
    },
    {
      "cell_type": "code",
      "execution_count": null,
      "metadata": {
        "colab": {
          "base_uri": "https://localhost:8080/"
        },
        "id": "U2Jol-H-dkBu",
        "outputId": "8abb4273-70dc-4539-a297-0113f53c7f07"
      },
      "outputs": [],
      "source": [
        "roboflow_api_key = \"\"\n",
        "rf = Roboflow(api_key=roboflow_api_key )\n",
        "project = rf.workspace(\"workspace-5ujvu\").project(\"basketball-players-fy4c2-vfsuv\")\n",
        "version = project.version(17)\n",
        "dataset = version.download(\"yolov5\")\n"
      ]
    },
    {
      "cell_type": "code",
      "execution_count": null,
      "metadata": {
        "colab": {
          "base_uri": "https://localhost:8080/",
          "height": 35
        },
        "id": "cjEF8pnPdj_X",
        "outputId": "b717976d-5ccc-470a-85be-6296c3161d08"
      },
      "outputs": [],
      "source": [
        "\n",
        "\n",
        "shutil.move(\"Basketball-Players-17/train\",\n",
        "\"Basketball-Players-17/Basketball-Players-17/train\",\n",
        ")\n",
        "shutil.move(\"Basketball-Players-17/valid\",\n",
        "\"Basketball-Players-17/Basketball-Players-17/valid\",\n",
        ")"
      ]
    },
    {
      "cell_type": "code",
      "execution_count": null,
      "metadata": {},
      "outputs": [],
      "source": []
    },
    {
      "cell_type": "code",
      "execution_count": null,
      "metadata": {
        "colab": {
          "base_uri": "https://localhost:8080/"
        },
        "id": "HiCqti7ned36",
        "outputId": "08ca61e6-589b-41e1-b636-f7f795001464"
      },
      "outputs": [],
      "source": [
        "!yolo task=detect mode=train model=yolov5l6u.p data={dataset.location}/data.yaml epochs=250 imgsz=640"
      ]
    },
    {
      "cell_type": "code",
      "execution_count": null,
      "metadata": {
        "colab": {
          "background_save": true
        },
        "id": "_U_o5abEjCyL"
      },
      "outputs": [],
      "source": []
    },
    {
      "cell_type": "code",
      "execution_count": null,
      "metadata": {
        "colab": {
          "background_save": true
        },
        "id": "gSZIhxhijCvt"
      },
      "outputs": [],
      "source": []
    },
    {
      "cell_type": "code",
      "execution_count": null,
      "metadata": {
        "id": "xzfFlb7cjCtj"
      },
      "outputs": [],
      "source": []
    },
    {
      "cell_type": "code",
      "execution_count": null,
      "metadata": {
        "id": "jWGb2nQcjCrb"
      },
      "outputs": [],
      "source": []
    }
  ],
  "metadata": {
    "accelerator": "GPU",
    "colab": {
      "gpuType": "T4",
      "provenance": []
    },
    "kernelspec": {
      "display_name": "Python 3",
      "name": "python3"
    },
    "language_info": {
      "name": "python"
    }
  },
  "nbformat": 4,
  "nbformat_minor": 0
}
